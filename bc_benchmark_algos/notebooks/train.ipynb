{
 "cells": [
  {
   "cell_type": "code",
   "execution_count": null,
   "metadata": {},
   "outputs": [],
   "source": [
    "from robomimic.config import config_factory\n",
    "import robomimic.utils.torch_utils as TorchUtils\n",
    "import robomimic.utils.obs_utils as ObsUtils\n",
    "import robomimic.utils.file_utils as FileUtils\n",
    "import json\n",
    "import os\n",
    "\n",
    "config_file = \"../config/bc_rnn.json\"\n",
    "ext_cfg = json.load(open(config_file, 'r'))\n",
    "config = config_factory(ext_cfg[\"algo_name\"])\n",
    "# update config with external json - this will throw errors if\n",
    "# the external config has keys not present in the base algo config\n",
    "with config.unlocked():\n",
    "    config.update(ext_cfg)\n",
    "# get torch device\n",
    "device = TorchUtils.get_torch_device(try_to_use_cuda=config.train.cuda)\n",
    "config.train.data = \"../../datasets/test/square_ph.hdf5\"\n",
    "# send output to a temporary directory\n",
    "config.train.output_dir = \"/tmp/tmp_trained_models\"\n",
    "# lock config to prevent further modifications and ensure missing keys raise errors\n",
    "config.lock()"
   ]
  },
  {
   "cell_type": "code",
   "execution_count": null,
   "metadata": {},
   "outputs": [],
   "source": [
    "# read config to set up metadata for observation modalities (e.g. detecting rgb observations)\n",
    "ObsUtils.initialize_obs_utils_with_config(config)\n",
    "\n",
    "print(ObsUtils.OBS_SHAPES)\n",
    "\n",
    "# make sure the dataset exists\n",
    "dataset_path = os.path.expanduser(config.train.data)\n",
    "if not os.path.exists(dataset_path):\n",
    "    raise Exception(\"Dataset at provided path {} not found!\".format(dataset_path))\n",
    "\n",
    "# # load basic metadata from training file\n",
    "# print(\"\\n============= Loaded Environment Metadata =============\")\n",
    "# env_meta = FileUtils.get_env_metadata_from_dataset(dataset_path=config.train.data)\n",
    "# shape_meta = FileUtils.get_shape_metadata_from_dataset(\n",
    "#     dataset_path=config.train.data,\n",
    "#     all_obs_keys=config.all_obs_keys,\n",
    "#     verbose=True\n",
    "# )\n",
    "# print(shape_meta[\"all_shapes\"])\n",
    "# print(config.observation.modalities)"
   ]
  }
 ],
 "metadata": {
  "kernelspec": {
   "display_name": "mental-models",
   "language": "python",
   "name": "python3"
  },
  "language_info": {
   "codemirror_mode": {
    "name": "ipython",
    "version": 3
   },
   "file_extension": ".py",
   "mimetype": "text/x-python",
   "name": "python",
   "nbconvert_exporter": "python",
   "pygments_lexer": "ipython3",
   "version": "3.8.0"
  }
 },
 "nbformat": 4,
 "nbformat_minor": 2
}
