{
 "cells": [
  {
   "cell_type": "code",
   "execution_count": null,
   "metadata": {},
   "outputs": [],
   "source": [
    "from bc_benchmark_algos.dataset.robomimic import RobomimicDataset\n",
    "import robomimic.utils.obs_utils as ObsUtils\n",
    "import matplotlib.pyplot as plt\n",
    "import numpy as np\n",
    "\n",
    "modality_to_obs_keys = {\"low_dim\": [\"robot0_eef_pos\", \"robot0_eef_quat\", \"actions\"],\n",
    "                        \"rgb\": [\"agentview_image\"]}\n",
    "obs_group_to_keys = {\"obs\": [\"robot0_eef_pos\", \"robot0_eef_quat\", \"agentview_image\"], \n",
    "                     \"goal\": [\"agentview_image\"]}\n",
    "dataset_keys = [\"actions\"]\n",
    "\n",
    "ObsUtils.initialize_obs_modality_mapping_from_dict(modality_mapping=modality_to_obs_keys)\n",
    "\n",
    "dataset_path = \"../../datasets/test/square_ph.hdf5\"\n",
    "dataset = RobomimicDataset(\n",
    "    hdf5_path=dataset_path,\n",
    "    obs_group_to_keys=obs_group_to_keys, \n",
    "    dataset_keys=dataset_keys, \n",
    "    goal_mode=\"subgoal\", \n",
    "    num_subgoal=None,\n",
    "    hdf5_cache_mode=None,\n",
    "    # pad_frame_stack=False, \n",
    "    # pad_seq_length=False,\n",
    "    )"
   ]
  },
  {
   "cell_type": "code",
   "execution_count": null,
   "metadata": {},
   "outputs": [],
   "source": [
    "# verify gc on last frame only\n",
    "print(\"gc on last frame only\")\n",
    "dataset.goal_mode = \"last\"\n",
    "goal0 = dataset[0][\"goal\"][\"agentview_image\"][0]\n",
    "goal99 = dataset[99][\"goal\"][\"agentview_image\"][0]\n",
    "assert np.all(np.equal(goal0, goal99))\n",
    "fig, axs = plt.subplots(1, 2)\n",
    "axs[0].imshow(goal0)\n",
    "axs[1].imshow(goal99)\n",
    "plt.show()"
   ]
  },
  {
   "cell_type": "code",
   "execution_count": null,
   "metadata": {},
   "outputs": [],
   "source": [
    "# verify dense subgoal\n",
    "print(\"dense subgoals\")\n",
    "dataset.goal_mode = \"subgoal\"\n",
    "goal98 = dataset[98][\"goal\"][\"agentview_image\"][0]\n",
    "goal99 = dataset[99][\"goal\"][\"agentview_image\"][0]\n",
    "assert np.any(np.not_equal(goal0, goal99))\n",
    "fig, axs = plt.subplots(1, 2)\n",
    "axs[0].imshow(goal98)\n",
    "axs[1].imshow(goal99)\n",
    "plt.show()"
   ]
  },
  {
   "cell_type": "code",
   "execution_count": null,
   "metadata": {},
   "outputs": [],
   "source": [
    "# verify sparse subgoal\n",
    "print(\"sparse subgoals\")\n",
    "dataset.goal_mode = \"subgoal\"\n",
    "dataset.num_subgoal = 15 # ~ every 10 frames\n",
    "goal0 = dataset[0][\"goal\"][\"agentview_image\"][0]\n",
    "goal1 = dataset[1][\"goal\"][\"agentview_image\"][0]\n",
    "goal14 = dataset[14][\"goal\"][\"agentview_image\"][0]\n",
    "assert np.all(np.equal(goal0, goal1))\n",
    "assert np.any(np.not_equal(goal1, goal14))\n",
    "fig, axs = plt.subplots(1, 3)\n",
    "axs[0].imshow(goal0)\n",
    "axs[1].imshow(goal1)\n",
    "axs[2].imshow(goal14)\n",
    "plt.show()"
   ]
  }
 ],
 "metadata": {
  "kernelspec": {
   "display_name": "mental-models",
   "language": "python",
   "name": "python3"
  },
  "language_info": {
   "codemirror_mode": {
    "name": "ipython",
    "version": 3
   },
   "file_extension": ".py",
   "mimetype": "text/x-python",
   "name": "python",
   "nbconvert_exporter": "python",
   "pygments_lexer": "ipython3",
   "version": "3.8.0"
  }
 },
 "nbformat": 4,
 "nbformat_minor": 2
}
